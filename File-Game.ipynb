{
 "cells": [
  {
   "cell_type": "markdown",
   "id": "8b769966",
   "metadata": {},
   "source": [
    "Q.The game() function in a program lets a user play a game and returns\n",
    "the scete as an integer.You need to read a file 'Hiscore.txt' which is either\n",
    "blanck or contain previous Hi-Score.You need to update the Hi-Score whenever\n",
    "Game() breaks the Hi-Score"
   ]
  },
  {
   "cell_type": "code",
   "execution_count": 4,
   "id": "182b8d33",
   "metadata": {},
   "outputs": [],
   "source": [
    "def game():\n",
    "    return 446\n",
    "score = game()\n",
    "with open(\"Hiscore.txt\") as f:\n",
    "    hiscore = int(f.read())\n",
    "if hiscore<score :\n",
    "    with open(\"Hiscore.txt\",\"w\") as f:\n",
    "        f.write(str(score))\n"
   ]
  },
  {
   "cell_type": "code",
   "execution_count": null,
   "id": "de76edb9",
   "metadata": {},
   "outputs": [],
   "source": []
  }
 ],
 "metadata": {
  "kernelspec": {
   "display_name": "Python 3 (ipykernel)",
   "language": "python",
   "name": "python3"
  },
  "language_info": {
   "codemirror_mode": {
    "name": "ipython",
    "version": 3
   },
   "file_extension": ".py",
   "mimetype": "text/x-python",
   "name": "python",
   "nbconvert_exporter": "python",
   "pygments_lexer": "ipython3",
   "version": "3.9.7"
  }
 },
 "nbformat": 4,
 "nbformat_minor": 5
}
