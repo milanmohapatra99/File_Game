{
 "cells": [
  {
   "cell_type": "markdown",
   "id": "8b769966",
   "metadata": {},
   "source": [
    "Q.The game() function in a program lets a user play a game and returns\n",
    "the scete as an integer.You need to read a file 'Hiscore.txt' which is either\n",
    "blanck or contain previous Hi-Score.You need to update the Hi-Score whenever\n",
    "Game() breaks the Hi-Score"
   ]
  },
  {
   "cell_type": "code",
   "execution_count": 4,
   "id": "182b8d33",
   "metadata": {},
   "outputs": [],
   "source": [
    "def game():
         return 44677
     score = game()
     with open("Hiscore.txt") as f:
         hiscoreStr = f.read()
    
     if  hiscoreStr=='' :
         with open("Hiscore.txt","w") as f:
             f.write(str(score)) 
        
elif int(hiscoreStr)<score :
    with open("Hiscore.txt","w") as f:
        f.write(str(score))
   ]
  },
  {
   "cell_type": "code",
   "execution_count": null,
   "id": "de76edb9",
   "metadata": {},
   "outputs": [],
   "source": []
  }
 ],
 "metadata": {
  "kernelspec": {
   "display_name": "Python 3 (ipykernel)",
   "language": "python",
   "name": "python3"
  },
  "language_info": {
   "codemirror_mode": {
    "name": "ipython",
    "version": 3
   },
   "file_extension": ".py",
   "mimetype": "text/x-python",
   "name": "python",
   "nbconvert_exporter": "python",
   "pygments_lexer": "ipython3",
   "version": "3.9.7"
  }
 },
 "nbformat": 4,
 "nbformat_minor": 5
}
